{
 "cells": [
  {
   "cell_type": "code",
   "execution_count": 5,
   "id": "cdf265c4-3c8e-4be6-97ca-0d012a9508e5",
   "metadata": {},
   "outputs": [],
   "source": [
    "import numpy as np\n",
    "import pandas as pd\n",
    "import matplotlib.pyplot as plt\n",
    "from sklearn.decomposition import NMF\n",
    "from sklearn.impute import KNNImputer\n",
    "import random"
   ]
  },
  {
   "cell_type": "code",
   "execution_count": 6,
   "id": "495a13ca-9eb6-4b80-9721-570c2f236e35",
   "metadata": {},
   "outputs": [],
   "source": [
    "def user_movie_ratings():\n",
    "\n",
    "    genre = input('Choose your genre:')\n",
    "\n",
    "    movies = pd.read_csv(\"../projectdata/ml-latest-small/movies.csv\")\n",
    "    ratings = pd.read_csv(\"../projectdata/ml-latest-small/ratings.csv\")\n",
    "    movie_ratings = pd.merge(ratings, movies, on=['movieId'])\n",
    "    user_movie_df = pd.pivot_table(movie_ratings, index='userId', columns='movieId', values='rating')\n",
    "\n",
    "    imputer = KNNImputer(n_neighbors=5)\n",
    "    imputed = imputer.fit_transform(user_movie_df)\n",
    "    imputed_w_titles = pd.DataFrame(imputed, index=user_movie_df.index, columns=user_movie_df.columns)\n",
    "\n",
    "    nmf = NMF(n_components=1, max_iter=5)\n",
    "    nmf.fit(imputed_w_titles)\n",
    "\n",
    "    Q = pd.DataFrame(nmf.components_, columns=imputed_w_titles.columns)\n",
    "    P = pd.DataFrame(nmf.transform(imputed_w_titles), index=imputed_w_titles.index)\n",
    "\n",
    "    Recommendations_in = pd.DataFrame(np.dot(P, Q), index=imputed_w_titles.index, columns=imputed_w_titles.columns)\n",
    "\n",
    "\n",
    "    mov = list(movies[movies['genres'].str.contains(f\"{genre}\")]['title'])\n",
    "    movie_selection = random.sample(mov, 5)\n",
    "\n",
    "    return movie_selection;"
   ]
  },
  {
   "cell_type": "code",
   "execution_count": 7,
   "id": "1bf3b905-2fcb-4528-9029-3fc9f4423d90",
   "metadata": {},
   "outputs": [
    {
     "data": {
      "text/plain": [
       "['Begotten (1990)',\n",
       " 'Victor Frankenstein (2015)',\n",
       " 'Kindred, The (1986)',\n",
       " 'Lost Skeleton of Cadavra, The (2002)',\n",
       " 'Mimic (1997)']"
      ]
     },
     "execution_count": 7,
     "metadata": {},
     "output_type": "execute_result"
    }
   ],
   "source": [
    "user_movie_ratings()"
   ]
  },
  {
   "cell_type": "code",
   "execution_count": null,
   "id": "b5f2a6cd-ff62-4a5e-89bc-ff1bc96b7a35",
   "metadata": {},
   "outputs": [],
   "source": []
  }
 ],
 "metadata": {
  "kernelspec": {
   "display_name": "Python 3.9.6 64-bit",
   "language": "python",
   "name": "python39664bitaf4f361e1634422cbe5be941ae452ffe"
  },
  "language_info": {
   "codemirror_mode": {
    "name": "ipython",
    "version": 3
   },
   "file_extension": ".py",
   "mimetype": "text/x-python",
   "name": "python",
   "nbconvert_exporter": "python",
   "pygments_lexer": "ipython3",
   "version": "3.9.6"
  }
 },
 "nbformat": 4,
 "nbformat_minor": 5
}
